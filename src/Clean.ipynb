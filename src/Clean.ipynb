{
 "cells": [
  {
   "cell_type": "code",
   "execution_count": 1,
   "metadata": {},
   "outputs": [],
   "source": [
    "# Libraries\n",
    "import numpy as np\n",
    "import pandas as pd\n",
    "import re"
   ]
  },
  {
   "cell_type": "code",
   "execution_count": 2,
   "metadata": {},
   "outputs": [],
   "source": [
    "# Importing \n",
    "attacks = pd.read_csv(r'../data/attacks.csv', encoding=\"Latin-1\")"
   ]
  },
  {
   "cell_type": "code",
   "execution_count": 3,
   "metadata": {},
   "outputs": [
    {
     "data": {
      "text/plain": [
       "Index(['Case Number', 'Date', 'Year', 'Type', 'Country', 'Area', 'Location',\n",
       "       'Activity', 'Name', 'Sex ', 'Age', 'Injury', 'Fatal (Y/N)', 'Time',\n",
       "       'Species ', 'Investigator or Source', 'pdf', 'href formula', 'href',\n",
       "       'Case Number.1', 'Case Number.2', 'original order', 'Unnamed: 22',\n",
       "       'Unnamed: 23'],\n",
       "      dtype='object')"
      ]
     },
     "execution_count": 3,
     "metadata": {},
     "output_type": "execute_result"
    }
   ],
   "source": [
    "# Columns in the project\n",
    "attacks.columns"
   ]
  },
  {
   "cell_type": "code",
   "execution_count": 4,
   "metadata": {},
   "outputs": [
    {
     "data": {
      "text/plain": [
       "(25723, 24)"
      ]
     },
     "execution_count": 4,
     "metadata": {},
     "output_type": "execute_result"
    }
   ],
   "source": [
    "# Dimension of the project 25723 Values (Rows), 24 Categories (Columns) \n",
    "attacks.shape"
   ]
  },
  {
   "cell_type": "code",
   "execution_count": 5,
   "metadata": {},
   "outputs": [],
   "source": [
    "# I'm going to delete the columns with information im not going to use, Like \"Case Number\" \"Case Number.1\" and \"Case Number.2\" \n",
    "attacks = attacks.drop('Case Number.1', axis=1)\n",
    "attacks = attacks.drop('Case Number.2', axis=1)\n",
    "# I'm going to delete the columns with information that i dont't know what is inside because the header is unespecific\n",
    "attacks = attacks.drop('Unnamed: 22', axis=1)\n",
    "attacks = attacks.drop('Unnamed: 23', axis=1)\n",
    "attacks = attacks.drop('Investigator or Source', axis=1)\n",
    "attacks = attacks.drop('Species ', axis=1)"
   ]
  },
  {
   "cell_type": "code",
   "execution_count": 6,
   "metadata": {},
   "outputs": [],
   "source": [
    "# I'm going to delete the columns with information that aren't usefull for me to use and is only noise.\n",
    "attacks = attacks.drop('href formula', axis=1)\n",
    "attacks = attacks.drop('href', axis=1)\n",
    "attacks = attacks.drop('pdf', axis=1)\n",
    "attacks = attacks.drop('original order', axis=1)\n",
    "attacks = attacks.drop('Area', axis=1) # We already have Country\n",
    "attacks = attacks.drop('Location', axis=1) # We already have Country\n",
    "attacks = attacks.drop('Age', axis=1) # Dont gave information\n",
    "attacks = attacks.drop('Name', axis=1) # Dont gave information"
   ]
  },
  {
   "cell_type": "code",
   "execution_count": 7,
   "metadata": {},
   "outputs": [],
   "source": [
    "# We delete all ROWS full of NaN on it \n",
    "attacks = attacks[~attacks.drop('Case Number', axis=1).isna().all(axis=1)]"
   ]
  },
  {
   "cell_type": "code",
   "execution_count": 8,
   "metadata": {},
   "outputs": [],
   "source": [
    "attacks = attacks.drop('Case Number', axis=1)"
   ]
  },
  {
   "cell_type": "code",
   "execution_count": 9,
   "metadata": {},
   "outputs": [
    {
     "data": {
      "text/plain": [
       "(6302, 9)"
      ]
     },
     "execution_count": 9,
     "metadata": {},
     "output_type": "execute_result"
    }
   ],
   "source": [
    "attacks.shape"
   ]
  },
  {
   "cell_type": "code",
   "execution_count": 10,
   "metadata": {},
   "outputs": [],
   "source": [
    "header_mapping = {\n",
    "    'Year': 'year',\n",
    "    'Type': 'type',\n",
    "    'Country' : 'country',\n",
    "    'Activity' : 'activity',\n",
    "    'Sex ' : 'sex',\n",
    "    'Injury' : 'injury',\n",
    "    'Fatal (Y/N)' : 'fatal_boolean',\n",
    "    'Time' : 'time',\n",
    "}\n",
    "attacks = attacks.rename(columns=header_mapping)"
   ]
  },
  {
   "cell_type": "code",
   "execution_count": 11,
   "metadata": {},
   "outputs": [
    {
     "name": "stdout",
     "output_type": "stream",
     "text": [
      "['N' 'Y' nan 'M' 'UNKNOWN' '2017' ' N' 'N ' 'y']\n"
     ]
    }
   ],
   "source": [
    "attacks.dtypes\n",
    "\n",
    "unique_values = attacks['fatal_boolean'].unique()\n",
    "print(unique_values)"
   ]
  },
  {
   "cell_type": "code",
   "execution_count": null,
   "metadata": {},
   "outputs": [],
   "source": []
  },
  {
   "cell_type": "markdown",
   "metadata": {},
   "source": [
    "\n",
    "### 1st we want to change 'year'"
   ]
  },
  {
   "cell_type": "code",
   "execution_count": 12,
   "metadata": {},
   "outputs": [],
   "source": [
    "# 1s we want to change 'year'\n",
    "attacks['year'].fillna('unknwown', inplace=True)\n",
    "attacks['year'] = attacks['year'].astype(str)"
   ]
  },
  {
   "cell_type": "code",
   "execution_count": 13,
   "metadata": {},
   "outputs": [],
   "source": [
    "\n",
    "attacks['year'] = attacks['year'].astype(str).str.replace('u', 'unknwown')\n",
    "attacks['year'] = attacks['year'].astype(str).str.replace(' ', 'unknwown')\n",
    "attacks['year'] = attacks['year'].astype(str).str.replace('.0', 'unknwown')\n",
    "attacks['year'] = attacks['year'].replace('77', 'unknwown', inplace=True)\n",
    "attacks['year'] = attacks['year'].replace('500', 'unknwown', inplace=True)\n",
    "attacks['year'] = attacks['year'].replace('5', 'unknwown', inplace=True)\n",
    "attacks['year'] = attacks['year'].replace('0', 'unknwown', inplace=True)"
   ]
  },
  {
   "cell_type": "markdown",
   "metadata": {},
   "source": [
    "### 2. Now we want to change 'type'"
   ]
  },
  {
   "cell_type": "code",
   "execution_count": 14,
   "metadata": {},
   "outputs": [],
   "source": [
    "#2. Now we want to change 'type'\n",
    "attacks['type'].fillna('UNKNOWN', inplace=True)\n",
    "attacks['type'] = attacks['type'].astype(str)\n",
    "attacks['type'] = attacks['type'].astype(str).str.replace('Boating', 'Boat',)\n",
    "attacks['type'] = attacks['type'].astype(str).str.replace('Boatomg', 'Boat',)\n",
    "attacks['type'] = attacks['type'].astype(str).str.replace('nan', 'Invalid',)"
   ]
  },
  {
   "cell_type": "markdown",
   "metadata": {},
   "source": [
    "### 3. Country"
   ]
  },
  {
   "cell_type": "code",
   "execution_count": 15,
   "metadata": {},
   "outputs": [],
   "source": [
    "# Now we want to change 'country', Latter we would create subgroups by continent to see they form part of each continent\n",
    "attacks['country'].fillna('UNKNOWN', inplace=True)\n",
    "attacks['country'] = attacks['country'].astype(str).str.replace('nan', 'UNKNOWN',)"
   ]
  },
  {
   "cell_type": "markdown",
   "metadata": {},
   "source": [
    "### 4. Sex"
   ]
  },
  {
   "cell_type": "code",
   "execution_count": 16,
   "metadata": {},
   "outputs": [],
   "source": [
    "#3. Let agroup sex\n",
    "attacks['fatal_boolean'].fillna('UNKNOWN', inplace=True)\n",
    "attacks['sex'] = attacks['sex'].astype(str).str.replace(' ', '')\n",
    "replacements = {'.': 'UNKNOWN', 'lli': 'UNKNOWN', 'N': 'UNKNOWN'}\n",
    "attacks['sex'] = attacks['sex'].replace(replacements, inplace=True)"
   ]
  },
  {
   "cell_type": "code",
   "execution_count": 17,
   "metadata": {},
   "outputs": [],
   "source": [
    "# Now we want to change 'age'\n",
    "# There are too many ranges now to do something"
   ]
  },
  {
   "cell_type": "code",
   "execution_count": 18,
   "metadata": {},
   "outputs": [
    {
     "name": "stdout",
     "output_type": "stream",
     "text": [
      "['N' 'Y' 'UNKNOWN' 'M' '2017' ' N' 'N ' 'y']\n"
     ]
    }
   ],
   "source": [
    "unique_values = attacks['fatal_boolean'].unique()\n",
    "print(unique_values)"
   ]
  },
  {
   "cell_type": "markdown",
   "metadata": {},
   "source": [
    "### 5. Fatal Y/N"
   ]
  },
  {
   "cell_type": "code",
   "execution_count": 19,
   "metadata": {},
   "outputs": [],
   "source": [
    "\n",
    "# Now we want to change 'fatal_boolean'\n",
    "attacks['fatal_boolean'].fillna('UNKNOWN', inplace=True)\n",
    "booleans_y = {'M': 'UNKNOWN', '2017': 'UNKNOWN'}\n",
    "booleans_n = {' N': 'N', 'N ': 'N'}\n",
    "booleans_u = {'y': 'Y'}\n",
    "attacks['fatal_boolean'] = attacks['fatal_boolean'].replace(booleans_n)\n",
    "attacks['fatal_boolean'] = attacks['fatal_boolean'].replace(booleans_y)\n",
    "attacks['fatal_boolean'] = attacks['fatal_boolean'].replace(booleans_u)"
   ]
  },
  {
   "cell_type": "code",
   "execution_count": 20,
   "metadata": {},
   "outputs": [],
   "source": [
    "attacks['fatal_boolean'] = attacks['fatal_boolean'].replace(booleans_n)\n",
    "attacks['fatal_boolean'] = attacks['fatal_boolean'].replace(booleans_y)\n",
    "attacks['fatal_boolean'] = attacks['fatal_boolean'].replace(booleans_u)\n",
    "\n"
   ]
  },
  {
   "cell_type": "markdown",
   "metadata": {},
   "source": [
    "### 6. Time"
   ]
  },
  {
   "cell_type": "code",
   "execution_count": 21,
   "metadata": {},
   "outputs": [],
   "source": [
    "# There was too many info and i needed to make it more easy to understand so i went by steps"
   ]
  },
  {
   "cell_type": "code",
   "execution_count": 22,
   "metadata": {},
   "outputs": [],
   "source": [
    "# 1.st I tried to reemplace the NaN\n",
    "    # attacks['time'].fillna('Unknown', inplace=True)\n",
    "# 2nd and Reemplace the values of the hours from AAhAA to AA.\n",
    "    #attacks['time'] = attacks['time'].str.replace(r'\\d+h\\d+', 'AB', regex=True)\n",
    "# 3rd i ask CHATGPT to modify the REDEX so more hours can be changed at once\n",
    "    #attacks['time'] = attacks['time'].str.replace(r'(\\d{2})h\\d{2}', r'\\1', regex=True)\n",
    "# 4rd i created a for loop to include the times of the day and i asked again my friend to make it work all together"
   ]
  },
  {
   "cell_type": "code",
   "execution_count": 23,
   "metadata": {},
   "outputs": [],
   "source": [
    "attacks['time'].fillna('Unknown', inplace=True)\n",
    "attacks['time'] = attacks['time'].str.replace(r'(\\d{2})h\\d{2}', r'\\1', regex=True)\n",
    "\n",
    "def categorize_time(time_str):\n",
    "    try:\n",
    "        hour = int(time_str)\n",
    "        if 5 <= hour < 12:\n",
    "            return 'Morning'\n",
    "        elif 12 <= hour < 17:   \n",
    "            return 'Afternoon'\n",
    "        elif 17 <= hour < 21:\n",
    "            return 'Evening'\n",
    "        else:\n",
    "            return 'Night'\n",
    "    except ValueError:\n",
    "        return 'Unknown'\n",
    "\n",
    "attacks['time'] = attacks['time'].apply(categorize_time)"
   ]
  },
  {
   "cell_type": "code",
   "execution_count": 24,
   "metadata": {},
   "outputs": [
    {
     "name": "stdout",
     "output_type": "stream",
     "text": [
      "['N' 'Y' 'UNKNOWN']\n"
     ]
    }
   ],
   "source": [
    "\n",
    "attacks.isna().sum()\n",
    "\n",
    "\n",
    "attacks.dtypes\n",
    "\n",
    "unique_values = attacks['fatal_boolean'].unique()\n",
    "print(unique_values)"
   ]
  },
  {
   "cell_type": "code",
   "execution_count": 25,
   "metadata": {},
   "outputs": [],
   "source": [
    "attacks.to_csv(\"atta_mod.csv\", sep=';', encoding='utf-8')"
   ]
  }
 ],
 "metadata": {
  "kernelspec": {
   "display_name": "ironhack",
   "language": "python",
   "name": "ironhack"
  },
  "language_info": {
   "codemirror_mode": {
    "name": "ipython",
    "version": 3
   },
   "file_extension": ".py",
   "mimetype": "text/x-python",
   "name": "python",
   "nbconvert_exporter": "python",
   "pygments_lexer": "ipython3",
   "version": "3.11.5"
  }
 },
 "nbformat": 4,
 "nbformat_minor": 2
}
